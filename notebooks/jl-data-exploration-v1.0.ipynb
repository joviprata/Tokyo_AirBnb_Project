{
 "cells": [
  {
   "cell_type": "code",
   "execution_count": 1,
   "id": "08a6db13-5010-47c3-94fb-7c9c53156a6e",
   "metadata": {},
   "outputs": [],
   "source": [
    "import pandas as pd\n",
    "import numpy as np\n",
    "import os"
   ]
  },
  {
   "cell_type": "code",
   "execution_count": 2,
   "id": "c104a73f-c468-48e1-a867-2cb89b5484f2",
   "metadata": {},
   "outputs": [],
   "source": [
    "# Load the dataset\n",
    "script_dir = os.getcwd()\n",
    "data_path = os.path.join(script_dir, \"../data/clean/cleaned_listings.csv\")\n",
    "df = pd.read_csv(data_path)"
   ]
  },
  {
   "cell_type": "code",
   "execution_count": 3,
   "id": "c5478938-b267-4493-9e2d-889af9e2d844",
   "metadata": {},
   "outputs": [
    {
     "data": {
      "text/html": [
       "<div>\n",
       "<style scoped>\n",
       "    .dataframe tbody tr th:only-of-type {\n",
       "        vertical-align: middle;\n",
       "    }\n",
       "\n",
       "    .dataframe tbody tr th {\n",
       "        vertical-align: top;\n",
       "    }\n",
       "\n",
       "    .dataframe thead th {\n",
       "        text-align: right;\n",
       "    }\n",
       "</style>\n",
       "<table border=\"1\" class=\"dataframe\">\n",
       "  <thead>\n",
       "    <tr style=\"text-align: right;\">\n",
       "      <th></th>\n",
       "      <th>id</th>\n",
       "      <th>name</th>\n",
       "      <th>host_id</th>\n",
       "      <th>host_name</th>\n",
       "      <th>neighbourhood</th>\n",
       "      <th>latitude</th>\n",
       "      <th>longitude</th>\n",
       "      <th>room_type</th>\n",
       "      <th>price</th>\n",
       "    </tr>\n",
       "  </thead>\n",
       "  <tbody>\n",
       "    <tr>\n",
       "      <th>0</th>\n",
       "      <td>197677</td>\n",
       "      <td>Oshiage Holiday Apartment                     ...</td>\n",
       "      <td>964081</td>\n",
       "      <td>Yoshimi &amp; Marek                               ...</td>\n",
       "      <td>Sumida Ku</td>\n",
       "      <td>35.717070</td>\n",
       "      <td>139.826080</td>\n",
       "      <td>Entire home/apt</td>\n",
       "      <td>12000</td>\n",
       "    </tr>\n",
       "    <tr>\n",
       "      <th>1</th>\n",
       "      <td>776070</td>\n",
       "      <td>Kero-kero house room 1                        ...</td>\n",
       "      <td>801494</td>\n",
       "      <td>Kei                                           ...</td>\n",
       "      <td>Kita Ku</td>\n",
       "      <td>35.738440</td>\n",
       "      <td>139.769170</td>\n",
       "      <td>Private room</td>\n",
       "      <td>9652</td>\n",
       "    </tr>\n",
       "    <tr>\n",
       "      <th>2</th>\n",
       "      <td>905944</td>\n",
       "      <td>4F - Near Shinjuku &amp; Shibuya                  ...</td>\n",
       "      <td>4847803</td>\n",
       "      <td>Best Stay In Tokyo!                           ...</td>\n",
       "      <td>Shibuya Ku</td>\n",
       "      <td>35.678780</td>\n",
       "      <td>139.678470</td>\n",
       "      <td>Entire home/apt</td>\n",
       "      <td>25738</td>\n",
       "    </tr>\n",
       "    <tr>\n",
       "      <th>3</th>\n",
       "      <td>1016831</td>\n",
       "      <td>5 mins Shibuya Cat modern sunny  Shimokita    ...</td>\n",
       "      <td>5596383</td>\n",
       "      <td>Wakana                                        ...</td>\n",
       "      <td>Setagaya Ku</td>\n",
       "      <td>35.658000</td>\n",
       "      <td>139.671340</td>\n",
       "      <td>Private room</td>\n",
       "      <td>23286</td>\n",
       "    </tr>\n",
       "    <tr>\n",
       "      <th>4</th>\n",
       "      <td>1196177</td>\n",
       "      <td>Stay with host Cozy private room Senju area   ...</td>\n",
       "      <td>5686404</td>\n",
       "      <td>Yukiko                                        ...</td>\n",
       "      <td>Adachi Ku</td>\n",
       "      <td>35.744731</td>\n",
       "      <td>139.797384</td>\n",
       "      <td>Private room</td>\n",
       "      <td>7500</td>\n",
       "    </tr>\n",
       "  </tbody>\n",
       "</table>\n",
       "</div>"
      ],
      "text/plain": [
       "        id                                               name  host_id  \\\n",
       "0   197677  Oshiage Holiday Apartment                     ...   964081   \n",
       "1   776070  Kero-kero house room 1                        ...   801494   \n",
       "2   905944  4F - Near Shinjuku & Shibuya                  ...  4847803   \n",
       "3  1016831  5 mins Shibuya Cat modern sunny  Shimokita    ...  5596383   \n",
       "4  1196177  Stay with host Cozy private room Senju area   ...  5686404   \n",
       "\n",
       "                                           host_name         neighbourhood  \\\n",
       "0  Yoshimi & Marek                               ...  Sumida Ku              \n",
       "1  Kei                                           ...  Kita Ku                \n",
       "2  Best Stay In Tokyo!                           ...  Shibuya Ku             \n",
       "3  Wakana                                        ...  Setagaya Ku            \n",
       "4  Yukiko                                        ...  Adachi Ku              \n",
       "\n",
       "    latitude   longitude         room_type  price  \n",
       "0  35.717070  139.826080  Entire home/apt   12000  \n",
       "1  35.738440  139.769170  Private room       9652  \n",
       "2  35.678780  139.678470  Entire home/apt   25738  \n",
       "3  35.658000  139.671340  Private room      23286  \n",
       "4  35.744731  139.797384  Private room       7500  "
      ]
     },
     "execution_count": 3,
     "metadata": {},
     "output_type": "execute_result"
    }
   ],
   "source": [
    "df.head()  # Inspect the first few rows"
   ]
  },
  {
   "cell_type": "code",
   "execution_count": 4,
   "id": "58124a86-befa-4403-a486-a5e3d832fe5d",
   "metadata": {},
   "outputs": [
    {
     "name": "stdout",
     "output_type": "stream",
     "text": [
      "<class 'pandas.core.frame.DataFrame'>\n",
      "RangeIndex: 14805 entries, 0 to 14804\n",
      "Data columns (total 9 columns):\n",
      " #   Column         Non-Null Count  Dtype  \n",
      "---  ------         --------------  -----  \n",
      " 0   id             14805 non-null  int64  \n",
      " 1   name           7548 non-null   object \n",
      " 2   host_id        14805 non-null  int64  \n",
      " 3   host_name      10968 non-null  object \n",
      " 4   neighbourhood  14805 non-null  object \n",
      " 5   latitude       14805 non-null  float64\n",
      " 6   longitude      14805 non-null  float64\n",
      " 7   room_type      14805 non-null  object \n",
      " 8   price          14805 non-null  int64  \n",
      "dtypes: float64(2), int64(3), object(4)\n",
      "memory usage: 1.0+ MB\n"
     ]
    }
   ],
   "source": [
    "df.info()  # Get basic info about the dataset"
   ]
  },
  {
   "cell_type": "code",
   "execution_count": 5,
   "id": "d2b8b9d3-b928-4ceb-b020-7107c58c9793",
   "metadata": {},
   "outputs": [
    {
     "data": {
      "text/plain": [
       "id                  0\n",
       "name             7257\n",
       "host_id             0\n",
       "host_name        3837\n",
       "neighbourhood       0\n",
       "latitude            0\n",
       "longitude           0\n",
       "room_type           0\n",
       "price               0\n",
       "dtype: int64"
      ]
     },
     "execution_count": 5,
     "metadata": {},
     "output_type": "execute_result"
    }
   ],
   "source": [
    "df.isnull().sum()  # Check for missing values"
   ]
  },
  {
   "cell_type": "code",
   "execution_count": 6,
   "id": "2f1596b0-6157-4f5a-a43e-dc2398f457d2",
   "metadata": {},
   "outputs": [
    {
     "data": {
      "text/html": [
       "<div>\n",
       "<style scoped>\n",
       "    .dataframe tbody tr th:only-of-type {\n",
       "        vertical-align: middle;\n",
       "    }\n",
       "\n",
       "    .dataframe tbody tr th {\n",
       "        vertical-align: top;\n",
       "    }\n",
       "\n",
       "    .dataframe thead th {\n",
       "        text-align: right;\n",
       "    }\n",
       "</style>\n",
       "<table border=\"1\" class=\"dataframe\">\n",
       "  <thead>\n",
       "    <tr style=\"text-align: right;\">\n",
       "      <th></th>\n",
       "      <th>id</th>\n",
       "      <th>host_id</th>\n",
       "      <th>latitude</th>\n",
       "      <th>longitude</th>\n",
       "      <th>price</th>\n",
       "    </tr>\n",
       "  </thead>\n",
       "  <tbody>\n",
       "    <tr>\n",
       "      <th>count</th>\n",
       "      <td>1.480500e+04</td>\n",
       "      <td>1.480500e+04</td>\n",
       "      <td>14805.000000</td>\n",
       "      <td>14805.000000</td>\n",
       "      <td>14805.000000</td>\n",
       "    </tr>\n",
       "    <tr>\n",
       "      <th>mean</th>\n",
       "      <td>6.103899e+17</td>\n",
       "      <td>2.960404e+08</td>\n",
       "      <td>35.698957</td>\n",
       "      <td>139.736314</td>\n",
       "      <td>20688.608105</td>\n",
       "    </tr>\n",
       "    <tr>\n",
       "      <th>std</th>\n",
       "      <td>4.937904e+17</td>\n",
       "      <td>1.873632e+08</td>\n",
       "      <td>0.041508</td>\n",
       "      <td>0.072920</td>\n",
       "      <td>28521.099570</td>\n",
       "    </tr>\n",
       "    <tr>\n",
       "      <th>min</th>\n",
       "      <td>1.976770e+05</td>\n",
       "      <td>3.222340e+05</td>\n",
       "      <td>35.520940</td>\n",
       "      <td>139.081322</td>\n",
       "      <td>1280.000000</td>\n",
       "    </tr>\n",
       "    <tr>\n",
       "      <th>25%</th>\n",
       "      <td>4.200705e+07</td>\n",
       "      <td>1.290963e+08</td>\n",
       "      <td>35.688640</td>\n",
       "      <td>139.698287</td>\n",
       "      <td>9800.000000</td>\n",
       "    </tr>\n",
       "    <tr>\n",
       "      <th>50%</th>\n",
       "      <td>8.634584e+17</td>\n",
       "      <td>2.734705e+08</td>\n",
       "      <td>35.704420</td>\n",
       "      <td>139.727374</td>\n",
       "      <td>15000.000000</td>\n",
       "    </tr>\n",
       "    <tr>\n",
       "      <th>75%</th>\n",
       "      <td>1.049645e+18</td>\n",
       "      <td>5.004383e+08</td>\n",
       "      <td>35.723244</td>\n",
       "      <td>139.791410</td>\n",
       "      <td>24286.000000</td>\n",
       "    </tr>\n",
       "    <tr>\n",
       "      <th>max</th>\n",
       "      <td>1.189054e+18</td>\n",
       "      <td>5.859819e+08</td>\n",
       "      <td>35.840764</td>\n",
       "      <td>139.914020</td>\n",
       "      <td>999999.000000</td>\n",
       "    </tr>\n",
       "  </tbody>\n",
       "</table>\n",
       "</div>"
      ],
      "text/plain": [
       "                 id       host_id      latitude     longitude          price\n",
       "count  1.480500e+04  1.480500e+04  14805.000000  14805.000000   14805.000000\n",
       "mean   6.103899e+17  2.960404e+08     35.698957    139.736314   20688.608105\n",
       "std    4.937904e+17  1.873632e+08      0.041508      0.072920   28521.099570\n",
       "min    1.976770e+05  3.222340e+05     35.520940    139.081322    1280.000000\n",
       "25%    4.200705e+07  1.290963e+08     35.688640    139.698287    9800.000000\n",
       "50%    8.634584e+17  2.734705e+08     35.704420    139.727374   15000.000000\n",
       "75%    1.049645e+18  5.004383e+08     35.723244    139.791410   24286.000000\n",
       "max    1.189054e+18  5.859819e+08     35.840764    139.914020  999999.000000"
      ]
     },
     "execution_count": 6,
     "metadata": {},
     "output_type": "execute_result"
    }
   ],
   "source": [
    "df.describe()  # Summary statistics for numerical columns"
   ]
  },
  {
   "cell_type": "code",
   "execution_count": 7,
   "id": "d7bdeb02-f85e-4130-93a7-4e1e4213b3bd",
   "metadata": {},
   "outputs": [
    {
     "data": {
      "text/plain": [
       "id           8.634584e+17\n",
       "host_id      2.734705e+08\n",
       "latitude     3.570442e+01\n",
       "longitude    1.397274e+02\n",
       "price        1.500000e+04\n",
       "dtype: float64"
      ]
     },
     "execution_count": 7,
     "metadata": {},
     "output_type": "execute_result"
    }
   ],
   "source": [
    "df.median(numeric_only=True)  # Calculate Median for numerical columns"
   ]
  },
  {
   "cell_type": "code",
   "execution_count": 8,
   "id": "0bffcb62-3e3a-45f7-a4f6-6002bffdd00b",
   "metadata": {},
   "outputs": [
    {
     "data": {
      "text/plain": [
       "id           1.976770e+05\n",
       "host_id      2.296271e+08\n",
       "latitude     3.569625e+01\n",
       "longitude    1.397864e+02\n",
       "price        6.105000e+03\n",
       "Name: 0, dtype: float64"
      ]
     },
     "execution_count": 8,
     "metadata": {},
     "output_type": "execute_result"
    }
   ],
   "source": [
    "df.mode(numeric_only=True).iloc[0]  # Calculate Mode for numerical columns"
   ]
  },
  {
   "cell_type": "code",
   "execution_count": 9,
   "id": "d7095834-9ca4-4bdd-af47-eff28d8c62cb",
   "metadata": {},
   "outputs": [
    {
     "data": {
      "text/plain": [
       "id               14805\n",
       "name              6509\n",
       "host_id           3650\n",
       "host_name         1711\n",
       "neighbourhood       49\n",
       "latitude         11373\n",
       "longitude        11946\n",
       "room_type            4\n",
       "price             5103\n",
       "dtype: int64"
      ]
     },
     "execution_count": 9,
     "metadata": {},
     "output_type": "execute_result"
    }
   ],
   "source": [
    "df.nunique()  # Unique values count for categorical columns"
   ]
  },
  {
   "cell_type": "code",
   "execution_count": 10,
   "id": "58fd3b73-311e-49fc-b9f7-a98a11546b28",
   "metadata": {},
   "outputs": [
    {
     "data": {
      "text/plain": [
       "neighbourhood\n",
       "Shinjuku Ku             2897\n",
       "Sumida Ku               1945\n",
       "Taito Ku                1711\n",
       "Toshima Ku              1419\n",
       "Shibuya Ku               977\n",
       "Ota Ku                   600\n",
       "Minato Ku                532\n",
       "Setagaya Ku              516\n",
       "Nakano Ku                454\n",
       "Katsushika Ku            429\n",
       "Kita Ku                  428\n",
       "Suginami Ku              357\n",
       "Koto Ku                  299\n",
       "Edogawa Ku               297\n",
       "Itabashi Ku              269\n",
       "Bunkyo Ku                262\n",
       "Chuo Ku                  232\n",
       "Arakawa Ku               226\n",
       "Shinagawa Ku             186\n",
       "Adachi Ku                181\n",
       "Chiyoda Ku               128\n",
       "Meguro Ku                102\n",
       "Nerima Ku                 80\n",
       "Musashino Shi             38\n",
       "Hachioji Shi              28\n",
       "Machida Shi               21\n",
       "Ome Shi                   21\n",
       "Hino Shi                  20\n",
       "Kokubunji Shi             19\n",
       "Mitaka Shi                16\n",
       "Chofu Shi                 14\n",
       "Komae Shi                 12\n",
       "Higashimurayama Shi        9\n",
       "Akiruno Shi                8\n",
       "Nishitokyo Shi             8\n",
       "Kunitachi Shi              8\n",
       "Fussa Shi                  8\n",
       "Okutama Machi              7\n",
       "Fuchu Shi                  7\n",
       "Tachikawa Shi              5\n",
       "Koganei Shi                5\n",
       "Hamura Shi                 5\n",
       "Kodaira Shi                4\n",
       "Kiyose Shi                 4\n",
       "Akishima Shi               3\n",
       "Tama Shi                   3\n",
       "Musashimurayama Shi        3\n",
       "Higashiyamato Shi          1\n",
       "Hinohara Mura              1\n",
       "Name: count, dtype: int64"
      ]
     },
     "execution_count": 10,
     "metadata": {},
     "output_type": "execute_result"
    }
   ],
   "source": [
    "# Distribution of Listings Across Neighborhoods\n",
    "df[\"neighbourhood\"].value_counts()"
   ]
  },
  {
   "cell_type": "code",
   "execution_count": 11,
   "id": "9c0d0ca9-6c90-4b1d-a4db-cd307ff1949b",
   "metadata": {},
   "outputs": [
    {
     "name": "stdout",
     "output_type": "stream",
     "text": [
      "Price Correlations:\n",
      " price        1.000000\n",
      "longitude    0.017443\n",
      "id           0.012482\n",
      "host_id      0.004989\n",
      "latitude    -0.015501\n",
      "Name: price, dtype: float64\n"
     ]
    }
   ],
   "source": [
    "# Correlation Analysis\n",
    "# Select only the numerical columns for the correlation matrix\n",
    "numerical_df = df.select_dtypes(include=[np.number])\n",
    "correlation_matrix = numerical_df.corr()  # Create the correlation matrix\n",
    "price_correlations = correlation_matrix[\"price\"].sort_values(\n",
    "    ascending=False\n",
    ")  # Focus on correlation with 'price'\n",
    "print(\"Price Correlations:\\n\", price_correlations)"
   ]
  },
  {
   "cell_type": "code",
   "execution_count": 12,
   "id": "bb7c43cd-e696-4503-ab22-27f9295a3393",
   "metadata": {},
   "outputs": [
    {
     "name": "stdout",
     "output_type": "stream",
     "text": [
      "Listings per Host:\n",
      "         host_id  listings_count\n",
      "0     229627088             105\n",
      "1     110379659              92\n",
      "2      42244167              77\n",
      "3     228133407              74\n",
      "4     151970670              73\n",
      "...         ...             ...\n",
      "3645  583413018               1\n",
      "3646    5710367               1\n",
      "3647  579471652               1\n",
      "3648  581650135               1\n",
      "3649  584786875               1\n",
      "\n",
      "[3650 rows x 2 columns]\n"
     ]
    }
   ],
   "source": [
    "# Distribution and Analysis of Key Metrics\n",
    "# Listings count by Host\n",
    "listings_per_host = (\n",
    "    df.groupby(\"host_id\")\n",
    "    .size()\n",
    "    .sort_values(ascending=False)\n",
    "    .reset_index(name=\"listings_count\")\n",
    ")\n",
    "print(\"Listings per Host:\\n\", listings_per_host)"
   ]
  },
  {
   "cell_type": "code",
   "execution_count": 13,
   "id": "e1344840-1c4c-4909-8265-c9c04e89a337",
   "metadata": {},
   "outputs": [
    {
     "name": "stdout",
     "output_type": "stream",
     "text": [
      "Neighbourhood Stats:\n",
      "            neighbourhood  count          mean   median           std\n",
      "0   Shinjuku Ku            2897  22459.536072  16500.0  24805.046004\n",
      "1   Sumida Ku              1945  18002.829820  13571.0  22919.144744\n",
      "2   Taito Ku               1711  24927.583285  17476.0  42568.128466\n",
      "3   Toshima Ku             1419  18149.673714  14429.0  11963.605358\n",
      "4   Shibuya Ku              977  27029.126919  20349.0  25916.258595\n",
      "5   Ota Ku                  600  14878.225000  12103.5  10798.170345\n",
      "6   Minato Ku               532  25747.605263  19593.5  23159.709331\n",
      "7   Setagaya Ku             516  20669.333333  13642.5  19761.025448\n",
      "8   Nakano Ku               454  17948.704846  13395.0  13534.548962\n",
      "9   Katsushika Ku           429  20627.491841  17000.0  16562.734660\n",
      "10  Kita Ku                 428  17317.348131  12900.0  15985.344087\n",
      "11  Suginami Ku             357  16094.380952  11643.0  15949.593956\n",
      "12  Koto Ku                 299  23269.257525  12571.0  52483.089493\n",
      "13  Edogawa Ku              297  16918.952862  13936.0  12472.839747\n",
      "14  Itabashi Ku             269  14832.486989  11000.0  11062.665566\n",
      "15  Bunkyo Ku               262  15258.320611  10904.0  12284.143010\n",
      "16  Chuo Ku                 232  26596.875000  19157.0  66248.667238\n",
      "17  Arakawa Ku              226  21382.849558   9811.5  93297.445239\n",
      "18  Shinagawa Ku            186  20922.327957  16585.5  14990.465039\n",
      "19  Adachi Ku               181  15080.828729  11543.0  10128.598164\n",
      "20  Chiyoda Ku              128  22733.382812  18232.0  15153.378778\n",
      "21  Meguro Ku               102  22726.088235  15376.5  20290.541449\n",
      "22  Nerima Ku                80  16799.187500  10866.0  12594.098702\n",
      "23  Musashino Shi            38  15755.157895  15000.0   6080.124863\n",
      "24  Hachioji Shi             28  13010.285714   9171.5  12101.456851\n",
      "25  Machida Shi              21  10595.190476   6000.0  20135.146440\n",
      "26  Ome Shi                  21  24858.190476  12000.0  33545.959534\n",
      "27  Hino Shi                 20   6671.750000   4729.0   5892.983454\n",
      "28  Kokubunji Shi            19  10530.894737   6749.0  10294.666520\n",
      "29  Mitaka Shi               16  15531.937500  13257.0   6938.641947\n",
      "30  Chofu Shi                14  16691.214286  11078.5  13333.376300\n",
      "31  Komae Shi                12  17492.833333  13500.0  11876.078637\n",
      "32  Higashimurayama Shi       9  16844.888889   8929.0  24369.771149\n",
      "33  Nishitokyo Shi            8  16639.125000  10182.0  13700.902175\n",
      "34  Fussa Shi                 8   6666.000000   6170.0   2761.214174\n",
      "35  Akiruno Shi               8  18789.250000  21000.0   9706.101641\n",
      "36  Kunitachi Shi             8   7490.875000   4963.5   6115.514963\n",
      "37  Fuchu Shi                 7   7353.000000   4999.0   5160.866626\n",
      "38  Okutama Machi             7  11891.428571  14143.0   6723.211555\n",
      "39  Tachikawa Shi             5   4604.600000   3000.0   2475.294185\n",
      "40  Hamura Shi                5   6523.200000   7030.0    817.787686\n",
      "41  Koganei Shi               5  11706.000000  13673.0   5502.344909\n",
      "42  Kiyose Shi                4   7975.000000   8550.0   1967.019742\n",
      "43  Kodaira Shi               4  18986.250000  10422.5  20827.690677\n",
      "44  Akishima Shi              3   5747.666667   4600.0   2075.022008\n",
      "45  Musashimurayama Shi       3   5000.000000   5000.0      0.000000\n",
      "46  Tama Shi                  3   5605.000000   4537.0   1901.154649\n",
      "47  Hinohara Mura             1  97857.000000  97857.0           NaN\n",
      "48  Higashiyamato Shi         1   4500.000000   4500.0           NaN\n",
      "\n",
      "END OF EXPLORATORY DATA ANALYSIS!\n"
     ]
    }
   ],
   "source": [
    "# Summary statistics for neighborhoods\n",
    "neighbourhood_stats = (\n",
    "    df.groupby(\"neighbourhood\")[\"price\"]\n",
    "    .agg([\"count\", \"mean\", \"median\", \"std\"])\n",
    "    .sort_values(\"count\", ascending=False)\n",
    "    .reset_index()\n",
    ")\n",
    "print(\"Neighbourhood Stats:\\n\", neighbourhood_stats)\n",
    "print(\"\\nEND OF EXPLORATORY DATA ANALYSIS!\")"
   ]
  }
 ],
 "metadata": {
  "kernelspec": {
   "display_name": "Python 3",
   "language": "python",
   "name": "python3"
  },
  "language_info": {
   "name": "python",
   "version": "3.12.5"
  }
 },
 "nbformat": 4,
 "nbformat_minor": 2
}
